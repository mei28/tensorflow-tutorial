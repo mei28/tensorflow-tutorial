{
 "metadata": {
  "language_info": {
   "codemirror_mode": {
    "name": "ipython",
    "version": 3
   },
   "file_extension": ".py",
   "mimetype": "text/x-python",
   "name": "python",
   "nbconvert_exporter": "python",
   "pygments_lexer": "ipython3",
   "version": "3.7.7-final"
  },
  "orig_nbformat": 2,
  "kernelspec": {
   "name": "python_defaultSpec_1601692605466",
   "display_name": "Python 3.7.7 64-bit ('.tensorflow')"
  }
 },
 "nbformat": 4,
 "nbformat_minor": 2,
 "cells": [
  {
   "cell_type": "code",
   "execution_count": 1,
   "metadata": {},
   "outputs": [],
   "source": [
    "import tensorflow as tf "
   ]
  },
  {
   "cell_type": "code",
   "execution_count": 3,
   "metadata": {},
   "outputs": [],
   "source": [
    "mnist = tf.keras.datasets.mnist\n",
    "(train_X,train_y),(test_X,test_y)=mnist.load_data()\n",
    "train_X,test_X=train_X/255.0,test_X/255.0"
   ]
  },
  {
   "cell_type": "code",
   "execution_count": 6,
   "metadata": {},
   "outputs": [],
   "source": [
    "model = tf.keras.models.Sequential([\n",
    "    tf.keras.layers.Flatten(input_shape=(28,28)),\n",
    "    tf.keras.layers.Dense(128,activation='relu'),\n",
    "    tf.keras.layers.Dropout(0.2),\n",
    "    tf.keras.layers.Dense(10)\n",
    "])"
   ]
  },
  {
   "cell_type": "code",
   "execution_count": 7,
   "metadata": {},
   "outputs": [
    {
     "output_type": "execute_result",
     "data": {
      "text/plain": "array([[ 0.34220988,  0.62175155,  0.53517705,  0.42806536, -0.2647493 ,\n         0.19705717, -0.08416718, -0.33412164, -0.21646732,  0.7475097 ]],\n      dtype=float32)"
     },
     "metadata": {},
     "execution_count": 7
    }
   ],
   "source": [
    "predictions = model(train_X[:1]).numpy()\n",
    "predictions"
   ]
  },
  {
   "cell_type": "code",
   "execution_count": 9,
   "metadata": {},
   "outputs": [
    {
     "output_type": "execute_result",
     "data": {
      "text/plain": "array([[0.1078984 , 0.14269817, 0.13086382, 0.11757137, 0.05880523,\n        0.09332027, 0.07044365, 0.05486406, 0.06171413, 0.16182086]],\n      dtype=float32)"
     },
     "metadata": {},
     "execution_count": 9
    }
   ],
   "source": [
    "tf.nn.softmax(predictions).numpy()"
   ]
  },
  {
   "cell_type": "code",
   "execution_count": 11,
   "metadata": {},
   "outputs": [],
   "source": [
    "loss_fn = tf.keras.losses.SparseCategoricalCrossentropy(from_logits=True)"
   ]
  },
  {
   "cell_type": "code",
   "execution_count": 13,
   "metadata": {},
   "outputs": [
    {
     "output_type": "execute_result",
     "data": {
      "text/plain": "2.371718"
     },
     "metadata": {},
     "execution_count": 13
    }
   ],
   "source": [
    "loss_fn(train_y[:1],predictions).numpy()"
   ]
  },
  {
   "cell_type": "code",
   "execution_count": 17,
   "metadata": {},
   "outputs": [],
   "source": [
    "model.compile(optimizer='adam',\n",
    "        loss=loss_fn,\n",
    "        metrics=['accuracy'])"
   ]
  },
  {
   "cell_type": "code",
   "execution_count": 18,
   "metadata": {
    "tags": []
   },
   "outputs": [
    {
     "output_type": "stream",
     "name": "stdout",
     "text": "Epoch 1/5\n1875/1875 [==============================] - 2s 825us/step - loss: 0.2900 - accuracy: 0.9164\nEpoch 2/5\n1875/1875 [==============================] - 2s 841us/step - loss: 0.1395 - accuracy: 0.9588\nEpoch 3/5\n1875/1875 [==============================] - 2s 857us/step - loss: 0.1074 - accuracy: 0.9677\nEpoch 4/5\n1875/1875 [==============================] - 1s 777us/step - loss: 0.0857 - accuracy: 0.9739\nEpoch 5/5\n1875/1875 [==============================] - 2s 838us/step - loss: 0.0731 - accuracy: 0.9771\n"
    },
    {
     "output_type": "execute_result",
     "data": {
      "text/plain": "&lt;tensorflow.python.keras.callbacks.History at 0x15b534f50&gt;"
     },
     "metadata": {},
     "execution_count": 18
    }
   ],
   "source": [
    "model.fit(train_X,train_y,epochs=5)"
   ]
  },
  {
   "cell_type": "code",
   "execution_count": 19,
   "metadata": {
    "tags": []
   },
   "outputs": [
    {
     "output_type": "stream",
     "name": "stdout",
     "text": "313/313 - 0s - loss: 0.0757 - accuracy: 0.9745\n"
    },
    {
     "output_type": "execute_result",
     "data": {
      "text/plain": "[0.07570958137512207, 0.9745000004768372]"
     },
     "metadata": {},
     "execution_count": 19
    }
   ],
   "source": [
    "model.evaluate(test_X,test_y,verbose=2)"
   ]
  },
  {
   "cell_type": "code",
   "execution_count": 20,
   "metadata": {},
   "outputs": [],
   "source": [
    "probability_model = tf.keras.Sequential([\n",
    "    model,\n",
    "    tf.keras.layers.Softmax()\n",
    "])"
   ]
  },
  {
   "cell_type": "code",
   "execution_count": 21,
   "metadata": {},
   "outputs": [
    {
     "output_type": "execute_result",
     "data": {
      "text/plain": "&lt;tf.Tensor: shape=(5, 10), dtype=float32, numpy=\narray([[1.90731328e-07, 2.83464208e-09, 2.34748018e-06, 9.92692585e-05,\n        6.82136708e-11, 2.97247368e-07, 9.46647491e-13, 9.99895692e-01,\n        1.19929638e-07, 1.98946282e-06],\n       [8.56397508e-10, 6.23701226e-06, 9.99986529e-01, 4.85551891e-06,\n        2.55131694e-14, 6.06402068e-07, 4.24911040e-09, 4.29989194e-14,\n        1.83055408e-06, 2.50797104e-14],\n       [9.03953242e-06, 9.98957157e-01, 1.54538051e-04, 1.64790908e-05,\n        1.98407961e-05, 2.54829752e-06, 2.23010557e-05, 3.99312150e-04,\n        4.18418087e-04, 3.13493302e-07],\n       [9.99994516e-01, 6.21833784e-09, 1.72483226e-06, 1.07933595e-07,\n        4.92982721e-09, 8.10889986e-08, 1.60697084e-06, 1.24224937e-06,\n        1.74832149e-09, 7.34625530e-07],\n       [1.08078502e-05, 3.85468297e-08, 2.29046727e-05, 5.94310769e-08,\n        9.97297227e-01, 4.84125337e-07, 1.14384409e-06, 1.13441347e-04,\n        3.88639637e-05, 2.51502497e-03]], dtype=float32)&gt;"
     },
     "metadata": {},
     "execution_count": 21
    }
   ],
   "source": [
    "probability_model(test_X[:5])"
   ]
  }
 ]
}