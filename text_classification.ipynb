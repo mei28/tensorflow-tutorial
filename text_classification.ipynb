{
 "metadata": {
  "language_info": {
   "codemirror_mode": {
    "name": "ipython",
    "version": 3
   },
   "file_extension": ".py",
   "mimetype": "text/x-python",
   "name": "python",
   "nbconvert_exporter": "python",
   "pygments_lexer": "ipython3",
   "version": "3.7.7-final"
  },
  "orig_nbformat": 2,
  "kernelspec": {
   "name": "Python 3.7.7 64-bit ('.tensorflow': venv)",
   "display_name": "Python 3.7.7 64-bit ('.tensorflow': venv)",
   "metadata": {
    "interpreter": {
     "hash": "2de6ec15c2bc8053535beece5da9cecd36e5cf2062b51a3212b9f25e05ee11d1"
    }
   }
  }
 },
 "nbformat": 4,
 "nbformat_minor": 2,
 "cells": [
  {
   "cell_type": "code",
   "execution_count": 3,
   "metadata": {
    "tags": []
   },
   "outputs": [
    {
     "output_type": "stream",
     "name": "stdout",
     "text": "2.3.1\n"
    }
   ],
   "source": [
    "import tensorflow as tf \n",
    "from tensorflow import keras\n",
    "\n",
    "import numpy as np \n",
    "print(tf.__version__)"
   ]
  },
  {
   "cell_type": "code",
   "execution_count": 4,
   "metadata": {
    "tags": []
   },
   "outputs": [
    {
     "output_type": "stream",
     "name": "stdout",
     "text": "Downloading data from https://storage.googleapis.com/tensorflow/tf-keras-datasets/imdb.npz\n17465344/17464789 [==============================] - 1s 0us/step\n"
    }
   ],
   "source": [
    "imdb = keras.datasets.imdb\n",
    "\n",
    "(train_data, train_labels), (test_data, test_labels) = imdb.load_data(num_words=10000)"
   ]
  },
  {
   "cell_type": "code",
   "execution_count": 5,
   "metadata": {
    "tags": []
   },
   "outputs": [
    {
     "output_type": "stream",
     "name": "stdout",
     "text": "Training entries: 25000, labels: 25000\n"
    }
   ],
   "source": [
    "print(\"Training entries: {}, labels: {}\".format(len(train_data), len(train_labels)))\n"
   ]
  },
  {
   "cell_type": "code",
   "execution_count": 6,
   "metadata": {
    "tags": []
   },
   "outputs": [
    {
     "output_type": "stream",
     "name": "stdout",
     "text": "[1, 14, 22, 16, 43, 530, 973, 1622, 1385, 65, 458, 4468, 66, 3941, 4, 173, 36, 256, 5, 25, 100, 43, 838, 112, 50, 670, 2, 9, 35, 480, 284, 5, 150, 4, 172, 112, 167, 2, 336, 385, 39, 4, 172, 4536, 1111, 17, 546, 38, 13, 447, 4, 192, 50, 16, 6, 147, 2025, 19, 14, 22, 4, 1920, 4613, 469, 4, 22, 71, 87, 12, 16, 43, 530, 38, 76, 15, 13, 1247, 4, 22, 17, 515, 17, 12, 16, 626, 18, 2, 5, 62, 386, 12, 8, 316, 8, 106, 5, 4, 2223, 5244, 16, 480, 66, 3785, 33, 4, 130, 12, 16, 38, 619, 5, 25, 124, 51, 36, 135, 48, 25, 1415, 33, 6, 22, 12, 215, 28, 77, 52, 5, 14, 407, 16, 82, 2, 8, 4, 107, 117, 5952, 15, 256, 4, 2, 7, 3766, 5, 723, 36, 71, 43, 530, 476, 26, 400, 317, 46, 7, 4, 2, 1029, 13, 104, 88, 4, 381, 15, 297, 98, 32, 2071, 56, 26, 141, 6, 194, 7486, 18, 4, 226, 22, 21, 134, 476, 26, 480, 5, 144, 30, 5535, 18, 51, 36, 28, 224, 92, 25, 104, 4, 226, 65, 16, 38, 1334, 88, 12, 16, 283, 5, 16, 4472, 113, 103, 32, 15, 16, 5345, 19, 178, 32]\n"
    }
   ],
   "source": [
    "print(train_data[0])"
   ]
  },
  {
   "cell_type": "code",
   "execution_count": 7,
   "metadata": {
    "tags": []
   },
   "outputs": [
    {
     "output_type": "stream",
     "name": "stdout",
     "text": "Downloading data from https://storage.googleapis.com/tensorflow/tf-keras-datasets/imdb_word_index.json\n1646592/1641221 [==============================] - 0s 0us/step\n"
    }
   ],
   "source": [
    "# 単語を整数にマッピングする辞書\n",
    "word_index = imdb.get_word_index()\n",
    "\n",
    "# インデックスの最初の方は予約済み\n",
    "word_index = {k:(v+3) for k,v in word_index.items()} \n",
    "word_index[\"<PAD>\"] = 0\n",
    "word_index[\"<START>\"] = 1\n",
    "word_index[\"<UNK>\"] = 2  # unknown\n",
    "word_index[\"<UNUSED>\"] = 3\n",
    "\n",
    "reverse_word_index = dict([(value, key) for (key, value) in word_index.items()])\n",
    "\n",
    "def decode_review(text):\n",
    "    return ' '.join([reverse_word_index.get(i, '?') for i in text])"
   ]
  },
  {
   "cell_type": "code",
   "execution_count": 9,
   "metadata": {},
   "outputs": [
    {
     "output_type": "execute_result",
     "data": {
      "text/plain": "&quot;&lt;START&gt; this film was just brilliant casting location scenery story direction everyone&#39;s really suited the part they played and you could just imagine being there robert &lt;UNK&gt; is an amazing actor and now the same being director &lt;UNK&gt; father came from the same scottish island as myself so i loved the fact there was a real connection with this film the witty remarks throughout the film were great it was just brilliant so much that i bought the film as soon as it was released for &lt;UNK&gt; and would recommend it to everyone to watch and the fly fishing was amazing really cried at the end it was so sad and you know what they say if you cry at a film it must have been good and this definitely was also &lt;UNK&gt; to the two little boy&#39;s that played the &lt;UNK&gt; of norman and paul they were just brilliant children are often left out of the &lt;UNK&gt; list i think because the stars that play them all grown up are such a big profile for the whole film but these children are amazing and should be praised for what they have done don&#39;t you think the whole story was so lovely because it was true and was someone&#39;s life after all that was shared with us all&quot;"
     },
     "metadata": {},
     "execution_count": 9
    }
   ],
   "source": [
    "decode_review(train_data[0])\n"
   ]
  },
  {
   "cell_type": "code",
   "execution_count": 10,
   "metadata": {},
   "outputs": [],
   "source": [
    "train_data = keras.preprocessing.sequence.pad_sequences(train_data,\n",
    "                                                        value=word_index[\"<PAD>\"],\n",
    "                                                        padding='post',\n",
    "                                                        maxlen=256)\n",
    "\n",
    "test_data = keras.preprocessing.sequence.pad_sequences(test_data,\n",
    "                                                       value=word_index[\"<PAD>\"],\n",
    "                                                       padding='post',\n",
    "                                                       maxlen=256)"
   ]
  },
  {
   "cell_type": "code",
   "execution_count": 11,
   "metadata": {
    "tags": []
   },
   "outputs": [
    {
     "output_type": "stream",
     "name": "stdout",
     "text": "Model: &quot;sequential&quot;\n_________________________________________________________________\nLayer (type)                 Output Shape              Param #   \n=================================================================\nembedding (Embedding)        (None, None, 16)          160000    \n_________________________________________________________________\nglobal_average_pooling1d (Gl (None, 16)                0         \n_________________________________________________________________\ndense (Dense)                (None, 16)                272       \n_________________________________________________________________\ndense_1 (Dense)              (None, 1)                 17        \n=================================================================\nTotal params: 160,289\nTrainable params: 160,289\nNon-trainable params: 0\n_________________________________________________________________\n"
    }
   ],
   "source": [
    "# 入力の形式は映画レビューで使われている語彙数（10,000語）\n",
    "vocab_size = 10000\n",
    "\n",
    "model = keras.Sequential()\n",
    "model.add(keras.layers.Embedding(vocab_size, 16))\n",
    "model.add(keras.layers.GlobalAveragePooling1D())\n",
    "model.add(keras.layers.Dense(16, activation='relu'))\n",
    "model.add(keras.layers.Dense(1, activation='sigmoid'))\n",
    "\n",
    "model.summary()"
   ]
  },
  {
   "cell_type": "code",
   "execution_count": 12,
   "metadata": {},
   "outputs": [],
   "source": [
    "model.compile(optimizer='adam',\n",
    "              loss='binary_crossentropy',\n",
    "              metrics=['accuracy'])"
   ]
  },
  {
   "cell_type": "code",
   "execution_count": 13,
   "metadata": {},
   "outputs": [],
   "source": [
    "x_val = train_data[:10000]\n",
    "partial_x_train = train_data[10000:]\n",
    "\n",
    "y_val = train_labels[:10000]\n",
    "partial_y_train = train_labels[10000:]"
   ]
  },
  {
   "cell_type": "code",
   "execution_count": 14,
   "metadata": {
    "tags": []
   },
   "outputs": [
    {
     "output_type": "stream",
     "name": "stdout",
     "text": "Epoch 1/40\n30/30 [==============================] - 0s 10ms/step - loss: 0.6917 - accuracy: 0.6082 - val_loss: 0.6897 - val_accuracy: 0.6792\nEpoch 2/40\n30/30 [==============================] - 0s 7ms/step - loss: 0.6856 - accuracy: 0.7094 - val_loss: 0.6809 - val_accuracy: 0.7115\nEpoch 3/40\n30/30 [==============================] - 0s 7ms/step - loss: 0.6717 - accuracy: 0.7531 - val_loss: 0.6625 - val_accuracy: 0.7478\nEpoch 4/40\n30/30 [==============================] - 0s 7ms/step - loss: 0.6452 - accuracy: 0.7745 - val_loss: 0.6321 - val_accuracy: 0.7686\nEpoch 5/40\n30/30 [==============================] - 0s 7ms/step - loss: 0.6060 - accuracy: 0.7981 - val_loss: 0.5912 - val_accuracy: 0.7894\nEpoch 6/40\n30/30 [==============================] - 0s 7ms/step - loss: 0.5577 - accuracy: 0.8115 - val_loss: 0.5447 - val_accuracy: 0.8079\nEpoch 7/40\n30/30 [==============================] - 0s 7ms/step - loss: 0.5055 - accuracy: 0.8354 - val_loss: 0.4981 - val_accuracy: 0.8248\nEpoch 8/40\n30/30 [==============================] - 0s 7ms/step - loss: 0.4556 - accuracy: 0.8515 - val_loss: 0.4558 - val_accuracy: 0.8376\nEpoch 9/40\n30/30 [==============================] - 0s 7ms/step - loss: 0.4116 - accuracy: 0.8668 - val_loss: 0.4209 - val_accuracy: 0.8461\nEpoch 10/40\n30/30 [==============================] - 0s 7ms/step - loss: 0.3738 - accuracy: 0.8779 - val_loss: 0.3919 - val_accuracy: 0.8558\nEpoch 11/40\n30/30 [==============================] - 0s 7ms/step - loss: 0.3434 - accuracy: 0.8843 - val_loss: 0.3697 - val_accuracy: 0.8610\nEpoch 12/40\n30/30 [==============================] - 0s 7ms/step - loss: 0.3173 - accuracy: 0.8936 - val_loss: 0.3514 - val_accuracy: 0.8682\nEpoch 13/40\n30/30 [==============================] - 0s 7ms/step - loss: 0.2958 - accuracy: 0.8997 - val_loss: 0.3372 - val_accuracy: 0.8718\nEpoch 14/40\n30/30 [==============================] - 0s 7ms/step - loss: 0.2769 - accuracy: 0.9056 - val_loss: 0.3257 - val_accuracy: 0.8748\nEpoch 15/40\n30/30 [==============================] - 0s 7ms/step - loss: 0.2603 - accuracy: 0.9093 - val_loss: 0.3169 - val_accuracy: 0.8764\nEpoch 16/40\n30/30 [==============================] - 0s 7ms/step - loss: 0.2463 - accuracy: 0.9145 - val_loss: 0.3095 - val_accuracy: 0.8790\nEpoch 17/40\n30/30 [==============================] - 0s 7ms/step - loss: 0.2330 - accuracy: 0.9198 - val_loss: 0.3031 - val_accuracy: 0.8798\nEpoch 18/40\n30/30 [==============================] - 0s 7ms/step - loss: 0.2208 - accuracy: 0.9229 - val_loss: 0.2994 - val_accuracy: 0.8812\nEpoch 19/40\n30/30 [==============================] - 0s 8ms/step - loss: 0.2102 - accuracy: 0.9268 - val_loss: 0.2950 - val_accuracy: 0.8813\nEpoch 20/40\n30/30 [==============================] - 0s 7ms/step - loss: 0.1997 - accuracy: 0.9317 - val_loss: 0.2913 - val_accuracy: 0.8836\nEpoch 21/40\n30/30 [==============================] - 0s 8ms/step - loss: 0.1901 - accuracy: 0.9362 - val_loss: 0.2893 - val_accuracy: 0.8841\nEpoch 22/40\n30/30 [==============================] - 0s 7ms/step - loss: 0.1815 - accuracy: 0.9403 - val_loss: 0.2873 - val_accuracy: 0.8848\nEpoch 23/40\n30/30 [==============================] - 0s 7ms/step - loss: 0.1733 - accuracy: 0.9435 - val_loss: 0.2865 - val_accuracy: 0.8842\nEpoch 24/40\n30/30 [==============================] - 0s 7ms/step - loss: 0.1661 - accuracy: 0.9473 - val_loss: 0.2868 - val_accuracy: 0.8840\nEpoch 25/40\n30/30 [==============================] - 0s 7ms/step - loss: 0.1585 - accuracy: 0.9505 - val_loss: 0.2857 - val_accuracy: 0.8847\nEpoch 26/40\n30/30 [==============================] - 0s 7ms/step - loss: 0.1516 - accuracy: 0.9537 - val_loss: 0.2856 - val_accuracy: 0.8848\nEpoch 27/40\n30/30 [==============================] - 0s 7ms/step - loss: 0.1453 - accuracy: 0.9561 - val_loss: 0.2863 - val_accuracy: 0.8846\nEpoch 28/40\n30/30 [==============================] - 0s 7ms/step - loss: 0.1396 - accuracy: 0.9581 - val_loss: 0.2881 - val_accuracy: 0.8838\nEpoch 29/40\n30/30 [==============================] - 0s 7ms/step - loss: 0.1334 - accuracy: 0.9609 - val_loss: 0.2883 - val_accuracy: 0.8848\nEpoch 30/40\n30/30 [==============================] - 0s 7ms/step - loss: 0.1280 - accuracy: 0.9630 - val_loss: 0.2896 - val_accuracy: 0.8855\nEpoch 31/40\n30/30 [==============================] - 0s 7ms/step - loss: 0.1224 - accuracy: 0.9654 - val_loss: 0.2933 - val_accuracy: 0.8851\nEpoch 32/40\n30/30 [==============================] - 0s 7ms/step - loss: 0.1178 - accuracy: 0.9668 - val_loss: 0.2944 - val_accuracy: 0.8842\nEpoch 33/40\n30/30 [==============================] - 0s 7ms/step - loss: 0.1128 - accuracy: 0.9687 - val_loss: 0.2964 - val_accuracy: 0.8844\nEpoch 34/40\n30/30 [==============================] - 0s 6ms/step - loss: 0.1083 - accuracy: 0.9699 - val_loss: 0.2987 - val_accuracy: 0.8849\nEpoch 35/40\n30/30 [==============================] - 0s 7ms/step - loss: 0.1041 - accuracy: 0.9719 - val_loss: 0.3023 - val_accuracy: 0.8833\nEpoch 36/40\n30/30 [==============================] - 0s 7ms/step - loss: 0.1000 - accuracy: 0.9734 - val_loss: 0.3064 - val_accuracy: 0.8825\nEpoch 37/40\n30/30 [==============================] - 0s 7ms/step - loss: 0.0959 - accuracy: 0.9762 - val_loss: 0.3078 - val_accuracy: 0.8829\nEpoch 38/40\n30/30 [==============================] - 0s 7ms/step - loss: 0.0919 - accuracy: 0.9766 - val_loss: 0.3116 - val_accuracy: 0.8827\nEpoch 39/40\n30/30 [==============================] - 0s 7ms/step - loss: 0.0883 - accuracy: 0.9783 - val_loss: 0.3147 - val_accuracy: 0.8821\nEpoch 40/40\n30/30 [==============================] - 0s 8ms/step - loss: 0.0847 - accuracy: 0.9788 - val_loss: 0.3184 - val_accuracy: 0.8817\n"
    }
   ],
   "source": [
    "history = model.fit(partial_x_train,\n",
    "                    partial_y_train,\n",
    "                    epochs=40,\n",
    "                    batch_size=512,\n",
    "                    validation_data=(x_val, y_val),\n",
    "                    verbose=1)"
   ]
  },
  {
   "cell_type": "code",
   "execution_count": 15,
   "metadata": {
    "tags": []
   },
   "outputs": [
    {
     "output_type": "stream",
     "name": "stdout",
     "text": "782/782 - 0s - loss: 0.3395 - accuracy: 0.8712\n[0.33949199318885803, 0.8712000250816345]\n"
    }
   ],
   "source": [
    "results = model.evaluate(test_data,  test_labels, verbose=2)\n",
    "\n",
    "print(results)"
   ]
  },
  {
   "cell_type": "code",
   "execution_count": 16,
   "metadata": {},
   "outputs": [
    {
     "output_type": "execute_result",
     "data": {
      "text/plain": "dict_keys([&#39;loss&#39;, &#39;accuracy&#39;, &#39;val_loss&#39;, &#39;val_accuracy&#39;])"
     },
     "metadata": {},
     "execution_count": 16
    }
   ],
   "source": [
    "history_dict = history.history\n",
    "history_dict.keys()"
   ]
  },
  {
   "cell_type": "code",
   "execution_count": null,
   "metadata": {},
   "outputs": [],
   "source": []
  }
 ]
}